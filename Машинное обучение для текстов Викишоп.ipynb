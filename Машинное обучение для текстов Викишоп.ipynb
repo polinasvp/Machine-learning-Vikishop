{
 "cells": [
  {
   "cell_type": "markdown",
   "metadata": {
    "id": "doyqSxeTnOK3"
   },
   "source": [
    "# Содержание\n",
    "\n",
    "1. [Подготовка](#Подготовка)\n",
    "2. [Обучение](#Обучение)\n",
    "3. [Выводы](#Выводы)"
   ]
  },
  {
   "cell_type": "markdown",
   "metadata": {
    "id": "1g4DTQ9InS3E"
   },
   "source": [
    "# Проект для «Викишоп»"
   ]
  },
  {
   "cell_type": "markdown",
   "metadata": {
    "id": "WgoVDqoOnXJD"
   },
   "source": [
    "Интернет-магазин «Викишоп» запускает новый сервис. Теперь пользователи могут редактировать и дополнять описания товаров, как в вики-сообществах. То есть клиенты предлагают свои правки и комментируют изменения других. Магазину нужен инструмент, который будет искать токсичные комментарии и отправлять их на модерацию.\n",
    "\n",
    "Обучите модель классифицировать комментарии на позитивные и негативные. В вашем распоряжении набор данных с разметкой о токсичности правок.\n",
    "\n",
    "Постройте модель со значением метрики качества *F1* не меньше 0.75.\n",
    "\n",
    "**Инструкция по выполнению проекта**\n",
    "\n",
    "1. Загрузите и подготовьте данные.\n",
    "2. Обучите разные модели.\n",
    "3. Сделайте выводы.\n",
    "\n",
    "Для выполнения проекта применять *BERT* необязательно, но вы можете попробовать.\n",
    "\n",
    "**Описание данных**\n",
    "\n",
    "Данные находятся в файле `toxic_comments.csv`. Столбец *text* в нём содержит текст комментария, а *toxic* — целевой признак."
   ]
  },
  {
   "cell_type": "code",
   "execution_count": 1,
   "metadata": {
    "colab": {
     "base_uri": "https://localhost:8080/",
     "height": 17
    },
    "id": "cPwhryX8naVj",
    "outputId": "6bc30905-ae69-423c-c9fe-a3d626a0b084"
   },
   "outputs": [
    {
     "data": {
      "text/html": [
       "<style>.container { width:90% !important; }</style>"
      ],
      "text/plain": [
       "<IPython.core.display.HTML object>"
      ]
     },
     "metadata": {},
     "output_type": "display_data"
    }
   ],
   "source": [
    "from IPython.core.display import display, HTML\n",
    "display(HTML(\"<style>.container { width:90% !important; }</style>\"))"
   ]
  },
  {
   "cell_type": "code",
   "execution_count": 2,
   "metadata": {
    "id": "BEp1uQ87nctm"
   },
   "outputs": [],
   "source": [
    "import warnings\n",
    "warnings.filterwarnings('ignore')"
   ]
  },
  {
   "cell_type": "markdown",
   "metadata": {
    "id": "DLC8TArfnhlp"
   },
   "source": [
    "## Подготовка"
   ]
  },
  {
   "cell_type": "code",
   "execution_count": 3,
   "metadata": {
    "colab": {
     "base_uri": "https://localhost:8080/"
    },
    "id": "1SOs2MhrHeTY",
    "outputId": "88a7be82-a7b5-4f11-980c-60a570a05574"
   },
   "outputs": [
    {
     "name": "stdout",
     "output_type": "stream",
     "text": [
      "Requirement already satisfied: scikit-learn in /opt/conda/lib/python3.9/site-packages (1.6.1)\n",
      "Requirement already satisfied: scipy>=1.6.0 in /opt/conda/lib/python3.9/site-packages (from scikit-learn) (1.9.1)\n",
      "Requirement already satisfied: numpy>=1.19.5 in /opt/conda/lib/python3.9/site-packages (from scikit-learn) (1.21.1)\n",
      "Requirement already satisfied: threadpoolctl>=3.1.0 in /opt/conda/lib/python3.9/site-packages (from scikit-learn) (3.1.0)\n",
      "Requirement already satisfied: joblib>=1.2.0 in /opt/conda/lib/python3.9/site-packages (from scikit-learn) (1.4.2)\n",
      "Note: you may need to restart the kernel to use updated packages.\n"
     ]
    }
   ],
   "source": [
    "pip install --upgrade scikit-learn"
   ]
  },
  {
   "cell_type": "code",
   "execution_count": 4,
   "metadata": {
    "colab": {
     "base_uri": "https://localhost:8080/"
    },
    "id": "5z7kP8mAnik4",
    "outputId": "b94c4431-7f9c-4a36-e23b-c2b5d9f42e18"
   },
   "outputs": [
    {
     "name": "stdout",
     "output_type": "stream",
     "text": [
      "\u001b[38;5;2m✔ Download and installation successful\u001b[0m\r\n",
      "You can now load the package via spacy.load('en_core_web_sm')\r\n"
     ]
    }
   ],
   "source": [
    "import sys\n",
    "!{sys.executable} -m pip install spacy -q\n",
    "!{sys.executable} -m spacy download en_core_web_sm -q"
   ]
  },
  {
   "cell_type": "code",
   "execution_count": 5,
   "metadata": {
    "colab": {
     "base_uri": "https://localhost:8080/"
    },
    "id": "n0FzVRpOnlVX",
    "outputId": "ed750450-dcc5-431c-a9e3-51e47e3e15fc"
   },
   "outputs": [
    {
     "name": "stderr",
     "output_type": "stream",
     "text": [
      "[nltk_data] Downloading package wordnet to /home/jovyan/nltk_data...\n",
      "[nltk_data]   Package wordnet is already up-to-date!\n",
      "[nltk_data] Downloading package stopwords to /home/jovyan/nltk_data...\n",
      "[nltk_data]   Package stopwords is already up-to-date!\n"
     ]
    },
    {
     "data": {
      "text/plain": [
       "True"
      ]
     },
     "execution_count": 5,
     "metadata": {},
     "output_type": "execute_result"
    }
   ],
   "source": [
    "import matplotlib.pyplot as plt\n",
    "import nltk\n",
    "import numpy as np\n",
    "import pandas as pd\n",
    "import re\n",
    "import spacy\n",
    "from lightgbm import LGBMClassifier\n",
    "from nltk.corpus import stopwords as nltk_stopwords\n",
    "from sklearn.feature_extraction.text import TfidfVectorizer\n",
    "from sklearn.linear_model import LogisticRegression\n",
    "from sklearn.metrics import f1_score, accuracy_score, roc_auc_score\n",
    "from sklearn.model_selection import GridSearchCV, RandomizedSearchCV, train_test_split, cross_val_predict\n",
    "from sklearn.naive_bayes import MultinomialNB\n",
    "from sklearn.pipeline import Pipeline\n",
    "from sklearn.svm import LinearSVC\n",
    "from sklearn.tree import DecisionTreeClassifier\n",
    "from tqdm import tqdm\n",
    "\n",
    "nlp = spacy.load(\"en_core_web_sm\")\n",
    "nltk.download('wordnet')\n",
    "nltk.download('stopwords')"
   ]
  },
  {
   "cell_type": "code",
   "execution_count": 6,
   "metadata": {
    "scrolled": true
   },
   "outputs": [],
   "source": [
    "df = pd.read_csv('https://code.s3.yandex.net/datasets/toxic_comments.csv')"
   ]
  },
  {
   "cell_type": "code",
   "execution_count": 7,
   "metadata": {
    "colab": {
     "base_uri": "https://localhost:8080/",
     "height": 675
    },
    "id": "t8YJsEtpnqbn",
    "outputId": "32dc276b-3d07-4b45-a66b-d8805fe0d170"
   },
   "outputs": [
    {
     "data": {
      "text/html": [
       "<style  type=\"text/css\" >\n",
       "#T_b0a6d_row0_col0,#T_b0a6d_row0_col2,#T_b0a6d_row1_col2,#T_b0a6d_row2_col2,#T_b0a6d_row3_col2,#T_b0a6d_row4_col2,#T_b0a6d_row5_col2,#T_b0a6d_row7_col2,#T_b0a6d_row8_col2,#T_b0a6d_row9_col2{\n",
       "            background-color:  #f7fbff;\n",
       "            color:  #000000;\n",
       "        }#T_b0a6d_row1_col0{\n",
       "            background-color:  #e1edf8;\n",
       "            color:  #000000;\n",
       "        }#T_b0a6d_row2_col0{\n",
       "            background-color:  #ccdff1;\n",
       "            color:  #000000;\n",
       "        }#T_b0a6d_row3_col0{\n",
       "            background-color:  #abd0e6;\n",
       "            color:  #000000;\n",
       "        }#T_b0a6d_row4_col0{\n",
       "            background-color:  #82bbdb;\n",
       "            color:  #000000;\n",
       "        }#T_b0a6d_row5_col0{\n",
       "            background-color:  #58a1cf;\n",
       "            color:  #000000;\n",
       "        }#T_b0a6d_row6_col0{\n",
       "            background-color:  #3787c0;\n",
       "            color:  #000000;\n",
       "        }#T_b0a6d_row6_col2,#T_b0a6d_row9_col0{\n",
       "            background-color:  #08306b;\n",
       "            color:  #f1f1f1;\n",
       "        }#T_b0a6d_row7_col0{\n",
       "            background-color:  #1b69af;\n",
       "            color:  #f1f1f1;\n",
       "        }#T_b0a6d_row8_col0{\n",
       "            background-color:  #084d96;\n",
       "            color:  #f1f1f1;\n",
       "        }</style><table id=\"T_b0a6d_\" ><thead>    <tr>        <th class=\"blank level0\" ></th>        <th class=\"col_heading level0 col0\" >Unnamed: 0</th>        <th class=\"col_heading level0 col1\" >text</th>        <th class=\"col_heading level0 col2\" >toxic</th>    </tr></thead><tbody>\n",
       "                <tr>\n",
       "                        <th id=\"T_b0a6d_level0_row0\" class=\"row_heading level0 row0\" >0</th>\n",
       "                        <td id=\"T_b0a6d_row0_col0\" class=\"data row0 col0\" >0</td>\n",
       "                        <td id=\"T_b0a6d_row0_col1\" class=\"data row0 col1\" >Explanation\n",
       "Why the edits made under my username Hardcore Metallica Fan were reverted? They weren't vandalisms, just closure on some GAs after I voted at New York Dolls FAC. And please don't remove the template from the talk page since I'm retired now.89.205.38.27</td>\n",
       "                        <td id=\"T_b0a6d_row0_col2\" class=\"data row0 col2\" >0</td>\n",
       "            </tr>\n",
       "            <tr>\n",
       "                        <th id=\"T_b0a6d_level0_row1\" class=\"row_heading level0 row1\" >1</th>\n",
       "                        <td id=\"T_b0a6d_row1_col0\" class=\"data row1 col0\" >1</td>\n",
       "                        <td id=\"T_b0a6d_row1_col1\" class=\"data row1 col1\" >D'aww! He matches this background colour I'm seemingly stuck with. Thanks.  (talk) 21:51, January 11, 2016 (UTC)</td>\n",
       "                        <td id=\"T_b0a6d_row1_col2\" class=\"data row1 col2\" >0</td>\n",
       "            </tr>\n",
       "            <tr>\n",
       "                        <th id=\"T_b0a6d_level0_row2\" class=\"row_heading level0 row2\" >2</th>\n",
       "                        <td id=\"T_b0a6d_row2_col0\" class=\"data row2 col0\" >2</td>\n",
       "                        <td id=\"T_b0a6d_row2_col1\" class=\"data row2 col1\" >Hey man, I'm really not trying to edit war. It's just that this guy is constantly removing relevant information and talking to me through edits instead of my talk page. He seems to care more about the formatting than the actual info.</td>\n",
       "                        <td id=\"T_b0a6d_row2_col2\" class=\"data row2 col2\" >0</td>\n",
       "            </tr>\n",
       "            <tr>\n",
       "                        <th id=\"T_b0a6d_level0_row3\" class=\"row_heading level0 row3\" >3</th>\n",
       "                        <td id=\"T_b0a6d_row3_col0\" class=\"data row3 col0\" >3</td>\n",
       "                        <td id=\"T_b0a6d_row3_col1\" class=\"data row3 col1\" >\"\n",
       "More\n",
       "I can't make any real suggestions on improvement - I wondered if the section statistics should be later on, or a subsection of \"\"types of accidents\"\"  -I think the references may need tidying so that they are all in the exact same format ie date format etc. I can do that later on, if no-one else does first - if you have any preferences for formatting style on references or want to do it yourself please let me know.\n",
       "\n",
       "There appears to be a backlog on articles for review so I guess there may be a delay until a reviewer turns up. It's listed in the relevant form eg Wikipedia:Good_article_nominations#Transport  \"</td>\n",
       "                        <td id=\"T_b0a6d_row3_col2\" class=\"data row3 col2\" >0</td>\n",
       "            </tr>\n",
       "            <tr>\n",
       "                        <th id=\"T_b0a6d_level0_row4\" class=\"row_heading level0 row4\" >4</th>\n",
       "                        <td id=\"T_b0a6d_row4_col0\" class=\"data row4 col0\" >4</td>\n",
       "                        <td id=\"T_b0a6d_row4_col1\" class=\"data row4 col1\" >You, sir, are my hero. Any chance you remember what page that's on?</td>\n",
       "                        <td id=\"T_b0a6d_row4_col2\" class=\"data row4 col2\" >0</td>\n",
       "            </tr>\n",
       "            <tr>\n",
       "                        <th id=\"T_b0a6d_level0_row5\" class=\"row_heading level0 row5\" >5</th>\n",
       "                        <td id=\"T_b0a6d_row5_col0\" class=\"data row5 col0\" >5</td>\n",
       "                        <td id=\"T_b0a6d_row5_col1\" class=\"data row5 col1\" >\"\n",
       "\n",
       "Congratulations from me as well, use the tools well.  · talk \"</td>\n",
       "                        <td id=\"T_b0a6d_row5_col2\" class=\"data row5 col2\" >0</td>\n",
       "            </tr>\n",
       "            <tr>\n",
       "                        <th id=\"T_b0a6d_level0_row6\" class=\"row_heading level0 row6\" >6</th>\n",
       "                        <td id=\"T_b0a6d_row6_col0\" class=\"data row6 col0\" >6</td>\n",
       "                        <td id=\"T_b0a6d_row6_col1\" class=\"data row6 col1\" >COCKSUCKER BEFORE YOU PISS AROUND ON MY WORK</td>\n",
       "                        <td id=\"T_b0a6d_row6_col2\" class=\"data row6 col2\" >1</td>\n",
       "            </tr>\n",
       "            <tr>\n",
       "                        <th id=\"T_b0a6d_level0_row7\" class=\"row_heading level0 row7\" >7</th>\n",
       "                        <td id=\"T_b0a6d_row7_col0\" class=\"data row7 col0\" >7</td>\n",
       "                        <td id=\"T_b0a6d_row7_col1\" class=\"data row7 col1\" >Your vandalism to the Matt Shirvington article has been reverted.  Please don't do it again, or you will be banned.</td>\n",
       "                        <td id=\"T_b0a6d_row7_col2\" class=\"data row7 col2\" >0</td>\n",
       "            </tr>\n",
       "            <tr>\n",
       "                        <th id=\"T_b0a6d_level0_row8\" class=\"row_heading level0 row8\" >8</th>\n",
       "                        <td id=\"T_b0a6d_row8_col0\" class=\"data row8 col0\" >8</td>\n",
       "                        <td id=\"T_b0a6d_row8_col1\" class=\"data row8 col1\" >Sorry if the word 'nonsense' was offensive to you. Anyway, I'm not intending to write anything in the article(wow they would jump on me for vandalism), I'm merely requesting that it be more encyclopedic so one can use it for school as a reference. I have been to the selective breeding page but it's almost a stub. It points to 'animal breeding' which is a short messy article that gives you no info. There must be someone around with expertise in eugenics? 93.161.107.169</td>\n",
       "                        <td id=\"T_b0a6d_row8_col2\" class=\"data row8 col2\" >0</td>\n",
       "            </tr>\n",
       "            <tr>\n",
       "                        <th id=\"T_b0a6d_level0_row9\" class=\"row_heading level0 row9\" >9</th>\n",
       "                        <td id=\"T_b0a6d_row9_col0\" class=\"data row9 col0\" >9</td>\n",
       "                        <td id=\"T_b0a6d_row9_col1\" class=\"data row9 col1\" >alignment on this subject and which are contrary to those of DuLithgow</td>\n",
       "                        <td id=\"T_b0a6d_row9_col2\" class=\"data row9 col2\" >0</td>\n",
       "            </tr>\n",
       "    </tbody></table>"
      ],
      "text/plain": [
       "<pandas.io.formats.style.Styler at 0x7fa3b4035d60>"
      ]
     },
     "metadata": {},
     "output_type": "display_data"
    },
    {
     "name": "stdout",
     "output_type": "stream",
     "text": [
      "<class 'pandas.core.frame.DataFrame'>\n",
      "RangeIndex: 159292 entries, 0 to 159291\n",
      "Data columns (total 3 columns):\n",
      " #   Column      Non-Null Count   Dtype \n",
      "---  ------      --------------   ----- \n",
      " 0   Unnamed: 0  159292 non-null  int64 \n",
      " 1   text        159292 non-null  object\n",
      " 2   toxic       159292 non-null  int64 \n",
      "dtypes: int64(2), object(1)\n",
      "memory usage: 3.6+ MB\n"
     ]
    }
   ],
   "source": [
    "toxic_comments = df\n",
    "\n",
    "display(toxic_comments.head(10).style.background_gradient(cmap='Blues', axis=0))\n",
    "toxic_comments.info()"
   ]
  },
  {
   "cell_type": "code",
   "execution_count": 7,
   "metadata": {
    "colab": {
     "base_uri": "https://localhost:8080/",
     "height": 675
    },
    "id": "t8YJsEtpnqbn",
    "outputId": "32dc276b-3d07-4b45-a66b-d8805fe0d170"
   },
   "outputs": [
    {
     "data": {
      "text/html": [
       "<style  type=\"text/css\" >\n",
       "#T_b0a6d_row0_col0,#T_b0a6d_row0_col2,#T_b0a6d_row1_col2,#T_b0a6d_row2_col2,#T_b0a6d_row3_col2,#T_b0a6d_row4_col2,#T_b0a6d_row5_col2,#T_b0a6d_row7_col2,#T_b0a6d_row8_col2,#T_b0a6d_row9_col2{\n",
       "            background-color:  #f7fbff;\n",
       "            color:  #000000;\n",
       "        }#T_b0a6d_row1_col0{\n",
       "            background-color:  #e1edf8;\n",
       "            color:  #000000;\n",
       "        }#T_b0a6d_row2_col0{\n",
       "            background-color:  #ccdff1;\n",
       "            color:  #000000;\n",
       "        }#T_b0a6d_row3_col0{\n",
       "            background-color:  #abd0e6;\n",
       "            color:  #000000;\n",
       "        }#T_b0a6d_row4_col0{\n",
       "            background-color:  #82bbdb;\n",
       "            color:  #000000;\n",
       "        }#T_b0a6d_row5_col0{\n",
       "            background-color:  #58a1cf;\n",
       "            color:  #000000;\n",
       "        }#T_b0a6d_row6_col0{\n",
       "            background-color:  #3787c0;\n",
       "            color:  #000000;\n",
       "        }#T_b0a6d_row6_col2,#T_b0a6d_row9_col0{\n",
       "            background-color:  #08306b;\n",
       "            color:  #f1f1f1;\n",
       "        }#T_b0a6d_row7_col0{\n",
       "            background-color:  #1b69af;\n",
       "            color:  #f1f1f1;\n",
       "        }#T_b0a6d_row8_col0{\n",
       "            background-color:  #084d96;\n",
       "            color:  #f1f1f1;\n",
       "        }</style><table id=\"T_b0a6d_\" ><thead>    <tr>        <th class=\"blank level0\" ></th>        <th class=\"col_heading level0 col0\" >Unnamed: 0</th>        <th class=\"col_heading level0 col1\" >text</th>        <th class=\"col_heading level0 col2\" >toxic</th>    </tr></thead><tbody>\n",
       "                <tr>\n",
       "                        <th id=\"T_b0a6d_level0_row0\" class=\"row_heading level0 row0\" >0</th>\n",
       "                        <td id=\"T_b0a6d_row0_col0\" class=\"data row0 col0\" >0</td>\n",
       "                        <td id=\"T_b0a6d_row0_col1\" class=\"data row0 col1\" >Explanation\n",
       "Why the edits made under my username Hardcore Metallica Fan were reverted? They weren't vandalisms, just closure on some GAs after I voted at New York Dolls FAC. And please don't remove the template from the talk page since I'm retired now.89.205.38.27</td>\n",
       "                        <td id=\"T_b0a6d_row0_col2\" class=\"data row0 col2\" >0</td>\n",
       "            </tr>\n",
       "            <tr>\n",
       "                        <th id=\"T_b0a6d_level0_row1\" class=\"row_heading level0 row1\" >1</th>\n",
       "                        <td id=\"T_b0a6d_row1_col0\" class=\"data row1 col0\" >1</td>\n",
       "                        <td id=\"T_b0a6d_row1_col1\" class=\"data row1 col1\" >D'aww! He matches this background colour I'm seemingly stuck with. Thanks.  (talk) 21:51, January 11, 2016 (UTC)</td>\n",
       "                        <td id=\"T_b0a6d_row1_col2\" class=\"data row1 col2\" >0</td>\n",
       "            </tr>\n",
       "            <tr>\n",
       "                        <th id=\"T_b0a6d_level0_row2\" class=\"row_heading level0 row2\" >2</th>\n",
       "                        <td id=\"T_b0a6d_row2_col0\" class=\"data row2 col0\" >2</td>\n",
       "                        <td id=\"T_b0a6d_row2_col1\" class=\"data row2 col1\" >Hey man, I'm really not trying to edit war. It's just that this guy is constantly removing relevant information and talking to me through edits instead of my talk page. He seems to care more about the formatting than the actual info.</td>\n",
       "                        <td id=\"T_b0a6d_row2_col2\" class=\"data row2 col2\" >0</td>\n",
       "            </tr>\n",
       "            <tr>\n",
       "                        <th id=\"T_b0a6d_level0_row3\" class=\"row_heading level0 row3\" >3</th>\n",
       "                        <td id=\"T_b0a6d_row3_col0\" class=\"data row3 col0\" >3</td>\n",
       "                        <td id=\"T_b0a6d_row3_col1\" class=\"data row3 col1\" >\"\n",
       "More\n",
       "I can't make any real suggestions on improvement - I wondered if the section statistics should be later on, or a subsection of \"\"types of accidents\"\"  -I think the references may need tidying so that they are all in the exact same format ie date format etc. I can do that later on, if no-one else does first - if you have any preferences for formatting style on references or want to do it yourself please let me know.\n",
       "\n",
       "There appears to be a backlog on articles for review so I guess there may be a delay until a reviewer turns up. It's listed in the relevant form eg Wikipedia:Good_article_nominations#Transport  \"</td>\n",
       "                        <td id=\"T_b0a6d_row3_col2\" class=\"data row3 col2\" >0</td>\n",
       "            </tr>\n",
       "            <tr>\n",
       "                        <th id=\"T_b0a6d_level0_row4\" class=\"row_heading level0 row4\" >4</th>\n",
       "                        <td id=\"T_b0a6d_row4_col0\" class=\"data row4 col0\" >4</td>\n",
       "                        <td id=\"T_b0a6d_row4_col1\" class=\"data row4 col1\" >You, sir, are my hero. Any chance you remember what page that's on?</td>\n",
       "                        <td id=\"T_b0a6d_row4_col2\" class=\"data row4 col2\" >0</td>\n",
       "            </tr>\n",
       "            <tr>\n",
       "                        <th id=\"T_b0a6d_level0_row5\" class=\"row_heading level0 row5\" >5</th>\n",
       "                        <td id=\"T_b0a6d_row5_col0\" class=\"data row5 col0\" >5</td>\n",
       "                        <td id=\"T_b0a6d_row5_col1\" class=\"data row5 col1\" >\"\n",
       "\n",
       "Congratulations from me as well, use the tools well.  · talk \"</td>\n",
       "                        <td id=\"T_b0a6d_row5_col2\" class=\"data row5 col2\" >0</td>\n",
       "            </tr>\n",
       "            <tr>\n",
       "                        <th id=\"T_b0a6d_level0_row6\" class=\"row_heading level0 row6\" >6</th>\n",
       "                        <td id=\"T_b0a6d_row6_col0\" class=\"data row6 col0\" >6</td>\n",
       "                        <td id=\"T_b0a6d_row6_col1\" class=\"data row6 col1\" >COCKSUCKER BEFORE YOU PISS AROUND ON MY WORK</td>\n",
       "                        <td id=\"T_b0a6d_row6_col2\" class=\"data row6 col2\" >1</td>\n",
       "            </tr>\n",
       "            <tr>\n",
       "                        <th id=\"T_b0a6d_level0_row7\" class=\"row_heading level0 row7\" >7</th>\n",
       "                        <td id=\"T_b0a6d_row7_col0\" class=\"data row7 col0\" >7</td>\n",
       "                        <td id=\"T_b0a6d_row7_col1\" class=\"data row7 col1\" >Your vandalism to the Matt Shirvington article has been reverted.  Please don't do it again, or you will be banned.</td>\n",
       "                        <td id=\"T_b0a6d_row7_col2\" class=\"data row7 col2\" >0</td>\n",
       "            </tr>\n",
       "            <tr>\n",
       "                        <th id=\"T_b0a6d_level0_row8\" class=\"row_heading level0 row8\" >8</th>\n",
       "                        <td id=\"T_b0a6d_row8_col0\" class=\"data row8 col0\" >8</td>\n",
       "                        <td id=\"T_b0a6d_row8_col1\" class=\"data row8 col1\" >Sorry if the word 'nonsense' was offensive to you. Anyway, I'm not intending to write anything in the article(wow they would jump on me for vandalism), I'm merely requesting that it be more encyclopedic so one can use it for school as a reference. I have been to the selective breeding page but it's almost a stub. It points to 'animal breeding' which is a short messy article that gives you no info. There must be someone around with expertise in eugenics? 93.161.107.169</td>\n",
       "                        <td id=\"T_b0a6d_row8_col2\" class=\"data row8 col2\" >0</td>\n",
       "            </tr>\n",
       "            <tr>\n",
       "                        <th id=\"T_b0a6d_level0_row9\" class=\"row_heading level0 row9\" >9</th>\n",
       "                        <td id=\"T_b0a6d_row9_col0\" class=\"data row9 col0\" >9</td>\n",
       "                        <td id=\"T_b0a6d_row9_col1\" class=\"data row9 col1\" >alignment on this subject and which are contrary to those of DuLithgow</td>\n",
       "                        <td id=\"T_b0a6d_row9_col2\" class=\"data row9 col2\" >0</td>\n",
       "            </tr>\n",
       "    </tbody></table>"
      ],
      "text/plain": [
       "<pandas.io.formats.style.Styler at 0x7fa3b4035d60>"
      ]
     },
     "metadata": {},
     "output_type": "display_data"
    },
    {
     "name": "stdout",
     "output_type": "stream",
     "text": [
      "<class 'pandas.core.frame.DataFrame'>\n",
      "RangeIndex: 159292 entries, 0 to 159291\n",
      "Data columns (total 3 columns):\n",
      " #   Column      Non-Null Count   Dtype \n",
      "---  ------      --------------   ----- \n",
      " 0   Unnamed: 0  159292 non-null  int64 \n",
      " 1   text        159292 non-null  object\n",
      " 2   toxic       159292 non-null  int64 \n",
      "dtypes: int64(2), object(1)\n",
      "memory usage: 3.6+ MB\n"
     ]
    }
   ],
   "source": [
    "toxic_comments = df\n",
    "\n",
    "display(toxic_comments.head(10).style.background_gradient(cmap='Blues', axis=0))\n",
    "toxic_comments.info()"
   ]
  },
  {
   "cell_type": "code",
   "execution_count": 8,
   "metadata": {
    "id": "pdxOWcKtrXMj"
   },
   "outputs": [],
   "source": [
    "toxic_comments.drop('Unnamed: 0', axis= 1 , inplace= True)"
   ]
  },
  {
   "cell_type": "code",
   "execution_count": 9,
   "metadata": {
    "colab": {
     "base_uri": "https://localhost:8080/",
     "height": 467
    },
    "id": "AgI74MRJrdWt",
    "outputId": "a614b267-836a-4d59-fae4-2a63f75d1303"
   },
   "outputs": [
    {
     "data": {
      "text/html": [
       "<style  type=\"text/css\" >\n",
       "#T_783f1_row0_col1,#T_783f1_row1_col1,#T_783f1_row2_col1,#T_783f1_row3_col1,#T_783f1_row4_col1,#T_783f1_row5_col1,#T_783f1_row7_col1,#T_783f1_row8_col1,#T_783f1_row9_col1{\n",
       "            background-color:  #f7fbff;\n",
       "            color:  #000000;\n",
       "        }#T_783f1_row6_col1{\n",
       "            background-color:  #08306b;\n",
       "            color:  #f1f1f1;\n",
       "        }</style><table id=\"T_783f1_\" ><thead>    <tr>        <th class=\"blank level0\" ></th>        <th class=\"col_heading level0 col0\" >text</th>        <th class=\"col_heading level0 col1\" >toxic</th>    </tr></thead><tbody>\n",
       "                <tr>\n",
       "                        <th id=\"T_783f1_level0_row0\" class=\"row_heading level0 row0\" >0</th>\n",
       "                        <td id=\"T_783f1_row0_col0\" class=\"data row0 col0\" >Explanation\n",
       "Why the edits made under my username Hardcore Metallica Fan were reverted? They weren't vandalisms, just closure on some GAs after I voted at New York Dolls FAC. And please don't remove the template from the talk page since I'm retired now.89.205.38.27</td>\n",
       "                        <td id=\"T_783f1_row0_col1\" class=\"data row0 col1\" >0</td>\n",
       "            </tr>\n",
       "            <tr>\n",
       "                        <th id=\"T_783f1_level0_row1\" class=\"row_heading level0 row1\" >1</th>\n",
       "                        <td id=\"T_783f1_row1_col0\" class=\"data row1 col0\" >D'aww! He matches this background colour I'm seemingly stuck with. Thanks.  (talk) 21:51, January 11, 2016 (UTC)</td>\n",
       "                        <td id=\"T_783f1_row1_col1\" class=\"data row1 col1\" >0</td>\n",
       "            </tr>\n",
       "            <tr>\n",
       "                        <th id=\"T_783f1_level0_row2\" class=\"row_heading level0 row2\" >2</th>\n",
       "                        <td id=\"T_783f1_row2_col0\" class=\"data row2 col0\" >Hey man, I'm really not trying to edit war. It's just that this guy is constantly removing relevant information and talking to me through edits instead of my talk page. He seems to care more about the formatting than the actual info.</td>\n",
       "                        <td id=\"T_783f1_row2_col1\" class=\"data row2 col1\" >0</td>\n",
       "            </tr>\n",
       "            <tr>\n",
       "                        <th id=\"T_783f1_level0_row3\" class=\"row_heading level0 row3\" >3</th>\n",
       "                        <td id=\"T_783f1_row3_col0\" class=\"data row3 col0\" >\"\n",
       "More\n",
       "I can't make any real suggestions on improvement - I wondered if the section statistics should be later on, or a subsection of \"\"types of accidents\"\"  -I think the references may need tidying so that they are all in the exact same format ie date format etc. I can do that later on, if no-one else does first - if you have any preferences for formatting style on references or want to do it yourself please let me know.\n",
       "\n",
       "There appears to be a backlog on articles for review so I guess there may be a delay until a reviewer turns up. It's listed in the relevant form eg Wikipedia:Good_article_nominations#Transport  \"</td>\n",
       "                        <td id=\"T_783f1_row3_col1\" class=\"data row3 col1\" >0</td>\n",
       "            </tr>\n",
       "            <tr>\n",
       "                        <th id=\"T_783f1_level0_row4\" class=\"row_heading level0 row4\" >4</th>\n",
       "                        <td id=\"T_783f1_row4_col0\" class=\"data row4 col0\" >You, sir, are my hero. Any chance you remember what page that's on?</td>\n",
       "                        <td id=\"T_783f1_row4_col1\" class=\"data row4 col1\" >0</td>\n",
       "            </tr>\n",
       "            <tr>\n",
       "                        <th id=\"T_783f1_level0_row5\" class=\"row_heading level0 row5\" >5</th>\n",
       "                        <td id=\"T_783f1_row5_col0\" class=\"data row5 col0\" >\"\n",
       "\n",
       "Congratulations from me as well, use the tools well.  · talk \"</td>\n",
       "                        <td id=\"T_783f1_row5_col1\" class=\"data row5 col1\" >0</td>\n",
       "            </tr>\n",
       "            <tr>\n",
       "                        <th id=\"T_783f1_level0_row6\" class=\"row_heading level0 row6\" >6</th>\n",
       "                        <td id=\"T_783f1_row6_col0\" class=\"data row6 col0\" >COCKSUCKER BEFORE YOU PISS AROUND ON MY WORK</td>\n",
       "                        <td id=\"T_783f1_row6_col1\" class=\"data row6 col1\" >1</td>\n",
       "            </tr>\n",
       "            <tr>\n",
       "                        <th id=\"T_783f1_level0_row7\" class=\"row_heading level0 row7\" >7</th>\n",
       "                        <td id=\"T_783f1_row7_col0\" class=\"data row7 col0\" >Your vandalism to the Matt Shirvington article has been reverted.  Please don't do it again, or you will be banned.</td>\n",
       "                        <td id=\"T_783f1_row7_col1\" class=\"data row7 col1\" >0</td>\n",
       "            </tr>\n",
       "            <tr>\n",
       "                        <th id=\"T_783f1_level0_row8\" class=\"row_heading level0 row8\" >8</th>\n",
       "                        <td id=\"T_783f1_row8_col0\" class=\"data row8 col0\" >Sorry if the word 'nonsense' was offensive to you. Anyway, I'm not intending to write anything in the article(wow they would jump on me for vandalism), I'm merely requesting that it be more encyclopedic so one can use it for school as a reference. I have been to the selective breeding page but it's almost a stub. It points to 'animal breeding' which is a short messy article that gives you no info. There must be someone around with expertise in eugenics? 93.161.107.169</td>\n",
       "                        <td id=\"T_783f1_row8_col1\" class=\"data row8 col1\" >0</td>\n",
       "            </tr>\n",
       "            <tr>\n",
       "                        <th id=\"T_783f1_level0_row9\" class=\"row_heading level0 row9\" >9</th>\n",
       "                        <td id=\"T_783f1_row9_col0\" class=\"data row9 col0\" >alignment on this subject and which are contrary to those of DuLithgow</td>\n",
       "                        <td id=\"T_783f1_row9_col1\" class=\"data row9 col1\" >0</td>\n",
       "            </tr>\n",
       "    </tbody></table>"
      ],
      "text/plain": [
       "<pandas.io.formats.style.Styler at 0x7fa2a32ac190>"
      ]
     },
     "metadata": {},
     "output_type": "display_data"
    }
   ],
   "source": [
    "display(toxic_comments.head(10).style.background_gradient(cmap='Blues', axis=0))"
   ]
  },
  {
   "cell_type": "code",
   "execution_count": 10,
   "metadata": {
    "colab": {
     "base_uri": "https://localhost:8080/"
    },
    "id": "5-62u2AarfuN",
    "outputId": "e4d690c0-67bd-438b-9cd4-fc8bd5b1fab5"
   },
   "outputs": [
    {
     "name": "stdout",
     "output_type": "stream",
     "text": [
      "\u001b[38;5;19m Количество дубликатов =  0 \u001b[0m\n"
     ]
    }
   ],
   "source": [
    "print('\\u001b[38;5;19m','Количество дубликатов = ', toxic_comments.duplicated().sum(), '\\u001b[0m')"
   ]
  },
  {
   "cell_type": "code",
   "execution_count": 11,
   "metadata": {
    "colab": {
     "base_uri": "https://localhost:8080/"
    },
    "id": "Eko_OPy8_J75",
    "outputId": "ba0dac1b-a57a-427e-ab73-55cbf53e638e"
   },
   "outputs": [
    {
     "name": "stdout",
     "output_type": "stream",
     "text": [
      "\u001b[38;5;19m Количество пропущенных значений =  0 \u001b[0m\n"
     ]
    }
   ],
   "source": [
    "print('\\u001b[38;5;19m', 'Количество пропущенных значений = ', toxic_comments.isna().sum().sum(), '\\u001b[0m')"
   ]
  },
  {
   "cell_type": "code",
   "execution_count": 12,
   "metadata": {
    "colab": {
     "base_uri": "https://localhost:8080/",
     "height": 487
    },
    "id": "-RzCDr3_riXY",
    "outputId": "8b54ed40-81c0-42ae-d7f0-7cc0397fc454"
   },
   "outputs": [
    {
     "data": {
      "image/png": "[encoded data removed]",
      "text/plain": [
       "<Figure size 432x288 with 1 Axes>"
      ]
     },
     "metadata": {
      "needs_background": "light"
     },
     "output_type": "display_data"
    }
   ],
   "source": [
    "toxic_comments['toxic'].value_counts().plot.barh(color='skyblue', edgecolor='black')\n",
    "\n",
    "plt.xlabel('Количество', fontsize=12)\n",
    "plt.ylabel('Тип комментария', fontsize=12)\n",
    "plt.title('Распределение типов комментариев', fontsize=14, fontweight='bold')\n",
    "\n",
    "plt.grid(axis='x', linestyle='--', alpha=0.7)\n",
    "plt.tight_layout()\n",
    "\n",
    "plt.show()"
   ]
  },
  {
   "cell_type": "markdown",
   "metadata": {
    "id": "BjqfgwFProVo"
   },
   "source": [
    "**Вывод по загрузке данных:**\n",
    "\n",
    "- Типы данных соответствуют действительности.  \n",
    "- Пропусков и дубликатов нет.  \n",
    "- В данных наблюдается дисбаланс классов. Это необходимо учитывать при построении моделей."
   ]
  },
  {
   "cell_type": "markdown",
   "metadata": {
    "id": "Lzv4IEh1rqfc"
   },
   "source": [
    "Создадим функцию, которая удалит лишние символы из текста и преобразует строки в нижний регистр."
   ]
  },
  {
   "cell_type": "code",
   "execution_count": 13,
   "metadata": {
    "colab": {
     "base_uri": "https://localhost:8080/",
     "height": 206
    },
    "id": "koKwabhdrkCM",
    "outputId": "b73bdb6e-efdb-46a4-d0ae-cc0f9ca12d29"
   },
   "outputs": [
    {
     "data": {
      "text/html": [
       "<div>\n",
       "<style scoped>\n",
       "    .dataframe tbody tr th:only-of-type {\n",
       "        vertical-align: middle;\n",
       "    }\n",
       "\n",
       "    .dataframe tbody tr th {\n",
       "        vertical-align: top;\n",
       "    }\n",
       "\n",
       "    .dataframe thead th {\n",
       "        text-align: right;\n",
       "    }\n",
       "</style>\n",
       "<table border=\"1\" class=\"dataframe\">\n",
       "  <thead>\n",
       "    <tr style=\"text-align: right;\">\n",
       "      <th></th>\n",
       "      <th>text</th>\n",
       "      <th>toxic</th>\n",
       "    </tr>\n",
       "  </thead>\n",
       "  <tbody>\n",
       "    <tr>\n",
       "      <th>0</th>\n",
       "      <td>explanation why the edits made under my userna...</td>\n",
       "      <td>0</td>\n",
       "    </tr>\n",
       "    <tr>\n",
       "      <th>1</th>\n",
       "      <td>daww he matches this background colour im seem...</td>\n",
       "      <td>0</td>\n",
       "    </tr>\n",
       "    <tr>\n",
       "      <th>2</th>\n",
       "      <td>hey man im really not trying to edit war its j...</td>\n",
       "      <td>0</td>\n",
       "    </tr>\n",
       "    <tr>\n",
       "      <th>3</th>\n",
       "      <td>more i cant make any real suggestions on impro...</td>\n",
       "      <td>0</td>\n",
       "    </tr>\n",
       "    <tr>\n",
       "      <th>4</th>\n",
       "      <td>you sir are my hero any chance you remember wh...</td>\n",
       "      <td>0</td>\n",
       "    </tr>\n",
       "  </tbody>\n",
       "</table>\n",
       "</div>"
      ],
      "text/plain": [
       "                                                text  toxic\n",
       "0  explanation why the edits made under my userna...      0\n",
       "1  daww he matches this background colour im seem...      0\n",
       "2  hey man im really not trying to edit war its j...      0\n",
       "3  more i cant make any real suggestions on impro...      0\n",
       "4  you sir are my hero any chance you remember wh...      0"
      ]
     },
     "execution_count": 13,
     "metadata": {},
     "output_type": "execute_result"
    }
   ],
   "source": [
    "def clear_text(text):\n",
    "    text = re.sub(r\"(?:\\n|\\r)\", \" \", text)\n",
    "    text = re.sub(r\"[^a-zA-Z ]+\", \"\", text).strip()\n",
    "    text = text.lower()\n",
    "    return text\n",
    "\n",
    "toxic_comments['text'] = toxic_comments['text'].apply(clear_text)\n",
    "\n",
    "toxic_comments.head()"
   ]
  },
  {
   "cell_type": "markdown",
   "metadata": {
    "id": "XdaF5Nacr0nF"
   },
   "source": [
    "Теперь выполним лемматизацию."
   ]
  },
  {
   "cell_type": "code",
   "execution_count": 14,
   "metadata": {},
   "outputs": [
    {
     "name": "stderr",
     "output_type": "stream",
     "text": [
      "100%|██████████| 159292/159292 [11:37<00:00, 228.24it/s]\n"
     ]
    },
    {
     "data": {
      "text/html": [
       "<div>\n",
       "<style scoped>\n",
       "    .dataframe tbody tr th:only-of-type {\n",
       "        vertical-align: middle;\n",
       "    }\n",
       "\n",
       "    .dataframe tbody tr th {\n",
       "        vertical-align: top;\n",
       "    }\n",
       "\n",
       "    .dataframe thead th {\n",
       "        text-align: right;\n",
       "    }\n",
       "</style>\n",
       "<table border=\"1\" class=\"dataframe\">\n",
       "  <thead>\n",
       "    <tr style=\"text-align: right;\">\n",
       "      <th></th>\n",
       "      <th>toxic</th>\n",
       "      <th>text_lemma</th>\n",
       "    </tr>\n",
       "  </thead>\n",
       "  <tbody>\n",
       "    <tr>\n",
       "      <th>0</th>\n",
       "      <td>0</td>\n",
       "      <td>explanation why the edit make under my usernam...</td>\n",
       "    </tr>\n",
       "    <tr>\n",
       "      <th>1</th>\n",
       "      <td>0</td>\n",
       "      <td>daww he match this background colour I m seemi...</td>\n",
       "    </tr>\n",
       "    <tr>\n",
       "      <th>2</th>\n",
       "      <td>0</td>\n",
       "      <td>hey man I m really not try to edit war its jus...</td>\n",
       "    </tr>\n",
       "    <tr>\n",
       "      <th>3</th>\n",
       "      <td>0</td>\n",
       "      <td>more I can not make any real suggestion on imp...</td>\n",
       "    </tr>\n",
       "    <tr>\n",
       "      <th>4</th>\n",
       "      <td>0</td>\n",
       "      <td>you sir be my hero any chance you remember wha...</td>\n",
       "    </tr>\n",
       "    <tr>\n",
       "      <th>5</th>\n",
       "      <td>0</td>\n",
       "      <td>congratulation from I as well use the tool wel...</td>\n",
       "    </tr>\n",
       "    <tr>\n",
       "      <th>6</th>\n",
       "      <td>1</td>\n",
       "      <td>cocksucker before you piss around on my work</td>\n",
       "    </tr>\n",
       "    <tr>\n",
       "      <th>7</th>\n",
       "      <td>0</td>\n",
       "      <td>your vandalism to the matt shirvington article...</td>\n",
       "    </tr>\n",
       "    <tr>\n",
       "      <th>8</th>\n",
       "      <td>0</td>\n",
       "      <td>sorry if the word nonsense be offensive to you...</td>\n",
       "    </tr>\n",
       "    <tr>\n",
       "      <th>9</th>\n",
       "      <td>0</td>\n",
       "      <td>alignment on this subject and which be contrar...</td>\n",
       "    </tr>\n",
       "  </tbody>\n",
       "</table>\n",
       "</div>"
      ],
      "text/plain": [
       "   toxic                                         text_lemma\n",
       "0      0  explanation why the edit make under my usernam...\n",
       "1      0  daww he match this background colour I m seemi...\n",
       "2      0  hey man I m really not try to edit war its jus...\n",
       "3      0  more I can not make any real suggestion on imp...\n",
       "4      0  you sir be my hero any chance you remember wha...\n",
       "5      0  congratulation from I as well use the tool wel...\n",
       "6      1       cocksucker before you piss around on my work\n",
       "7      0  your vandalism to the matt shirvington article...\n",
       "8      0  sorry if the word nonsense be offensive to you...\n",
       "9      0  alignment on this subject and which be contrar..."
      ]
     },
     "execution_count": 14,
     "metadata": {},
     "output_type": "execute_result"
    }
   ],
   "source": [
    "nlp = spacy.load(\"en_core_web_sm\")\n",
    "\n",
    "lemmatized_texts = []\n",
    "for doc in tqdm(nlp.pipe(toxic_comments['text'], disable=[\"ner\", \"parser\"]), total=len(toxic_comments)):\n",
    "    lemmatized_texts.append(' '.join([token.lemma_ for token in doc]))\n",
    "\n",
    "toxic_comments['text_lemma'] = lemmatized_texts\n",
    "toxic_comments = toxic_comments.drop(['text'], axis=1)\n",
    "\n",
    "toxic_comments.head(10)"
   ]
  },
  {
   "cell_type": "code",
   "execution_count": 15,
   "metadata": {
    "colab": {
     "base_uri": "https://localhost:8080/"
    },
    "id": "qe2T7Xoqxhrt",
    "outputId": "d09c8c55-e51d-4a93-b9cb-7fbeeb055eed",
    "scrolled": true
   },
   "outputs": [
    {
     "data": {
      "text/plain": [
       "(159292, 2)"
      ]
     },
     "execution_count": 15,
     "metadata": {},
     "output_type": "execute_result"
    }
   ],
   "source": [
    "toxic_comments.shape"
   ]
  },
  {
   "cell_type": "markdown",
   "metadata": {
    "id": "ZzFYgoXxx1gr"
   },
   "source": [
    "Разделим датасет на тестовые и тренировочные выборки."
   ]
  },
  {
   "cell_type": "code",
   "execution_count": 16,
   "metadata": {},
   "outputs": [],
   "source": [
    "RANDOM_STATE = 42\n",
    "\n",
    "X = toxic_comments.drop(['toxic'], axis=1)  \n",
    "y = toxic_comments['toxic']\n",
    "\n",
    "X_train, X_test, y_train, y_test = train_test_split(\n",
    "    X, y, test_size=0.2, random_state=RANDOM_STATE, stratify=y\n",
    ")"
   ]
  },
  {
   "cell_type": "markdown",
   "metadata": {
    "id": "QPIAhP8HyZza"
   },
   "source": [
    "Проверим размеры полученных наборов данных."
   ]
  },
  {
   "cell_type": "code",
   "execution_count": 17,
   "metadata": {},
   "outputs": [
    {
     "name": "stdout",
     "output_type": "stream",
     "text": [
      "(127433, 1)\n",
      "(127433,)\n",
      "(31859, 1)\n",
      "(31859,)\n"
     ]
    }
   ],
   "source": [
    "print(X_train.shape)\n",
    "print(y_train.shape)\n",
    "print(X_test.shape)\n",
    "print(y_test.shape)"
   ]
  },
  {
   "cell_type": "code",
   "execution_count": 18,
   "metadata": {},
   "outputs": [],
   "source": [
    "stopwords_russian = nltk_stopwords.words('russian')\n",
    "\n",
    "count_tf_idf = TfidfVectorizer(stop_words=stopwords_russian)"
   ]
  },
  {
   "cell_type": "markdown",
   "metadata": {
    "id": "c6J0KVu9zNKf"
   },
   "source": [
    "**Вывод по подготовке данных:**\n",
    "- Разработана функция для очистки текста от лишних символов, а также приведено содержимое строк к нижнему регистру.\n",
    "- Выполнена лемматизация текста.\n",
    "- Датасет разделён на тренировочные, валидационные и тестовые выборки.\n",
    "- Преобразованы данные в векторное представление."
   ]
  },
  {
   "cell_type": "markdown",
   "metadata": {
    "id": "l6JXl6MizZww"
   },
   "source": [
    "## Обучение"
   ]
  },
  {
   "cell_type": "markdown",
   "metadata": {
    "id": "_OPVLNgczmYa"
   },
   "source": [
    "Напишем функцию, которая на основе тренировочных и валидационных данных, а также словаря с гиперпараметрами и модели, вычислит метрики \"F1\" и \"ROC-AUC\" и вернет гиперпараметры лучшей модели."
   ]
  },
  {
   "cell_type": "code",
   "execution_count": 19,
   "metadata": {},
   "outputs": [],
   "source": [
    "def create_model(X_train, y_train, param_grid, model):\n",
    "    pipeline = Pipeline([\n",
    "        ('tfidf', TfidfVectorizer(stop_words=stopwords_russian)),\n",
    "        ('clf', model)\n",
    "    ])\n",
    "    \n",
    "    random_search = RandomizedSearchCV(\n",
    "        pipeline,\n",
    "        param_grid,\n",
    "        cv=5,\n",
    "        scoring='f1',\n",
    "        n_iter=4,\n",
    "        n_jobs=-1,\n",
    "        random_state=42\n",
    "    )\n",
    "    \n",
    "    random_search.fit(X_train['text_lemma'], y_train)  # Передаем только текстовые данные\n",
    "    best_model = random_search.best_estimator_\n",
    "    best_params = random_search.best_params_\n",
    "    f1_train = random_search.best_score_\n",
    "    \n",
    "    return best_model, best_params, f1_train"
   ]
  },
  {
   "cell_type": "code",
   "execution_count": 20,
   "metadata": {
    "id": "E3h_iMYWzvF6"
   },
   "outputs": [],
   "source": [
    "logistic_param_grid = {\n",
    "    'clf__penalty': ['l2'],\n",
    "    'clf__C': [1, 10, 100]\n",
    "}"
   ]
  },
  {
   "cell_type": "code",
   "execution_count": 21,
   "metadata": {
    "colab": {
     "base_uri": "https://localhost:8080/"
    },
    "id": "9DlEi25fz1fj",
    "outputId": "c98be5bf-666f-4e8b-bc2f-f59603db351c"
   },
   "outputs": [
    {
     "name": "stdout",
     "output_type": "stream",
     "text": [
      "Лучшие параметры для LogisticRegression: {'clf__penalty': 'l2', 'clf__C': 10}\n",
      "Метрика F1 на тренировочной выборке (по кросс-валидации): 0.7851585696681708\n",
      "Метрика F1 на валидационной выборке: 0.790068493150685\n",
      "Метрика ROC AUC на валидационной выборке: 0.9726236746624215\n"
     ]
    }
   ],
   "source": [
    "#LogisticRegression\n",
    "log_model, log_best_params, log_f1_score_train = create_model(\n",
    "    X_train, y_train, logistic_param_grid, LogisticRegression()\n",
    ")\n",
    "\n",
    "y_pred_valid = log_model.predict(X_test['text_lemma'])  \n",
    "\n",
    "log_f1_score_valid = f1_score(y_test, y_pred_valid)\n",
    "if hasattr(log_model, \"predict_proba\"):\n",
    "    y_pred_proba = log_model.predict_proba(X_test['text_lemma'])[:, 1]\n",
    "    log_roc_auc = roc_auc_score(y_test, y_pred_proba)\n",
    "else:\n",
    "    log_roc_auc = roc_auc_score(y_test, y_pred_valid)\n",
    "\n",
    "print(\"Лучшие параметры для LogisticRegression:\", log_best_params)\n",
    "print(\"Метрика F1 на тренировочной выборке (по кросс-валидации):\", log_f1_score_train)\n",
    "print(\"Метрика F1 на валидационной выборке:\", log_f1_score_valid)\n",
    "print(\"Метрика ROC AUC на валидационной выборке:\", log_roc_auc)"
   ]
  },
  {
   "cell_type": "code",
   "execution_count": 22,
   "metadata": {
    "colab": {
     "base_uri": "https://localhost:8080/"
    },
    "id": "s1VKAcTaP849",
    "outputId": "74a0c54a-313f-4291-d41e-c90b4cb0a3ff"
   },
   "outputs": [
    {
     "name": "stdout",
     "output_type": "stream",
     "text": [
      "Лучшие параметры для Naive Bayes: {'fit_prior': True, 'alpha': 0.01}\n",
      "Метрика F1 на тренировочной выборке (по кросс-валидации): 0.6498270720246978\n",
      "Метрика ROC AUC на тренировочной выборке (по кросс-валидации): 0.9241650122896685\n"
     ]
    }
   ],
   "source": [
    "# Naive Bayes\n",
    "def create_naive_bayes_model(X_train, y_train, param_grid):\n",
    "    model = MultinomialNB()\n",
    "\n",
    "    random_search = RandomizedSearchCV(\n",
    "        model,\n",
    "        param_grid,\n",
    "        cv=5,\n",
    "        scoring='f1',\n",
    "        n_iter=4,\n",
    "        n_jobs=-1,\n",
    "        random_state=42\n",
    "    )\n",
    "\n",
    "    random_search.fit(X_train, y_train)  \n",
    "    best_model = random_search.best_estimator_\n",
    "    best_params = random_search.best_params_\n",
    "    f1_train = random_search.best_score_\n",
    "\n",
    "    return best_model, best_params, f1_train\n",
    "\n",
    "tf_idf_train = count_tf_idf.fit_transform(X_train['text_lemma'].values)\n",
    "tf_idf_test = count_tf_idf.transform(X_test['text_lemma'].values)\n",
    "\n",
    "# параметры для Naive Bayes\n",
    "nb_param_grid = {\n",
    "    'alpha': [0.01, 0.1, 1, 10],\n",
    "    'fit_prior': [True, False]\n",
    "}\n",
    "\n",
    "nb_model, nb_best_params, nb_f1_score_train = create_naive_bayes_model(\n",
    "    tf_idf_train, y_train, nb_param_grid\n",
    ")\n",
    "\n",
    "y_train_proba = cross_val_predict(nb_model, tf_idf_train, y_train, cv=5, method='predict_proba')[:, 1]\n",
    "nb_roc_auc_score_train = roc_auc_score(y_train, y_train_proba)\n",
    "\n",
    "print(\"Лучшие параметры для Naive Bayes:\", nb_best_params)\n",
    "print(\"Метрика F1 на тренировочной выборке (по кросс-валидации):\", nb_f1_score_train)\n",
    "print(\"Метрика ROC AUC на тренировочной выборке (по кросс-валидации):\", nb_roc_auc_score_train)"
   ]
  },
  {
   "cell_type": "code",
   "execution_count": 23,
   "metadata": {
    "id": "hS4Y4H7qzsZR"
   },
   "outputs": [],
   "source": [
    "# словарь для модели LGBMClassifier\n",
    "lgbm_param_grid = {\n",
    "    'num_leaves': [31, 50],  \n",
    "    'n_estimators': [50, 100],  \n",
    "}"
   ]
  },
  {
   "cell_type": "code",
   "execution_count": 24,
   "metadata": {
    "colab": {
     "base_uri": "https://localhost:8080/"
    },
    "id": "er80Bhj60xeO",
    "outputId": "a145d321-b31a-4519-ae17-df66d2c33e13"
   },
   "outputs": [
    {
     "name": "stdout",
     "output_type": "stream",
     "text": [
      "Лучшие параметры для LGBMClassifier:\n",
      "{'num_leaves': 50, 'n_estimators': 100}\n",
      "Метрика F1 на тренировочной выборке: 0.8314352777536295\n",
      "Метрика ROC AUC на тренировочной выборке: 0.9871385916209181\n"
     ]
    }
   ],
   "source": [
    "# LightGBM\n",
    "lgbm_model = LGBMClassifier()\n",
    "random_search = RandomizedSearchCV(lgbm_model, lgbm_param_grid, n_iter=5, cv=3, scoring='f1', random_state=42, n_jobs=-1)\n",
    "random_search.fit(tf_idf_train, y_train)\n",
    "\n",
    "lgbm_best_params = random_search.best_params_\n",
    "\n",
    "lgbm_f1_train = f1_score(y_train, random_search.predict(tf_idf_train))\n",
    "if hasattr(random_search.best_estimator_, \"predict_proba\"):\n",
    "    y_pred_proba_train = random_search.best_estimator_.predict_proba(tf_idf_train)[:, 1]\n",
    "    lgbm_roc_auc_train = roc_auc_score(y_train, y_pred_proba_train)\n",
    "else:\n",
    "    lgbm_roc_auc_train = roc_auc_score(y_train, random_search.predict(tf_idf_train))\n",
    "\n",
    "print(\"Лучшие параметры для LGBMClassifier:\")\n",
    "print(lgbm_best_params)\n",
    "print(\"Метрика F1 на тренировочной выборке:\", lgbm_f1_train)\n",
    "print(\"Метрика ROC AUC на тренировочной выборке:\", lgbm_roc_auc_train)"
   ]
  },
  {
   "cell_type": "markdown",
   "metadata": {
    "id": "vABZOIaiWMC0"
   },
   "source": [
    "Из полученных результатов видно, что разные модели показывают различные уровни производительности.\n",
    "\n",
    "**Logistic Regression:**\n",
    "- **Лучшие параметры**: `{'clf__penalty': 'l2', 'clf__C': 10}`\n",
    "- **Метрика F1 на тренировочной выборке**: 0.785\n",
    "- **Метрика F1 на валидационной выборке**: 0.790\n",
    "- **Метрика ROC AUC на валидационной выборке**: 0.973\n",
    "\n",
    "Logistic Regression показывает хорошую метрику F1 на обеих выборках (тренировочной, валидационной), что указывает на стабильную и высокую производительность модели на разных данных. Также высокая метрика ROC AUC подтверждает, что модель хорошо разделяет позитивные и негативные комментарии.\n",
    "\n",
    "**Naive Bayes:**\n",
    "- **Лучшие параметры**: `{'fit_prior': True, 'alpha': 0.01}`\n",
    "- **Метрика F1 на тренировочной выборке**: 0.650\n",
    "- **Метрика ROC AUC на тренировочной выборке**: 0.924\n",
    "\n",
    "Naive Bayes демонстрирует более низкое значение F1 на тренировочной выборке по сравнению с другими моделями. Однако метрика ROC AUC все еще достаточно высока, что говорит о хорошем разделении классов, несмотря на более низкую точность классификации.\n",
    "\n",
    "**LightGBM (LGBMClassifier):**\n",
    "- **Лучшие параметры**: `{'num_leaves': 50, 'n_estimators': 100}`\n",
    "- **Метрика F1 на тренировочной выборке**: 0.831\n",
    "- **Метрика ROC AUC на тренировочной выборке**: 0.987\n",
    "\n",
    "LightGBM показывает наивысшее значение F1 (0.831) и высокий ROC AUC (0.987), что указывает на отличные результаты классификации. \n",
    "\n",
    "**Вывод:**\n",
    "- Модели **Logistic Regression** и **LightGBM** превосходят **Naive Bayes** по метрике F1, при этом **LightGBM** имеет наилучший результат среди всех моделей.\n",
    "- **Logistic Regression** показывает стабильные и высокие результаты на всех выборках, в том числе на тестовой выборке, и может быть рекомендована для использования в реальных приложениях.\n",
    "- **LightGBM** является наиболее подходящей моделью для текущей задачи, так как она показывает лучшие результаты как по метрике F1, так и по метрике ROC AUC, что подтверждает высокое качество разделения классов и точность предсказаний.\n",
    "\n",
    "Таким образом, можно рекомендовать использование модели **LightGBM** для классификации токсичных комментариев в данном проекте. Однако модель **Logistic Regression** также демонстрирует отличные результаты и может быть использована для дальнейших тестов или в качестве базовой модели для сравнений."
   ]
  },
  {
   "cell_type": "code",
   "execution_count": 25,
   "metadata": {
    "colab": {
     "base_uri": "https://localhost:8080/"
    },
    "id": "I5d35kBpWd_A",
    "outputId": "1abb4d35-7bc4-45d9-e7cf-86555169411f"
   },
   "outputs": [
    {
     "name": "stdout",
     "output_type": "stream",
     "text": [
      "Метрика F1 для Logistic Regression на тестовой выборке: 0.790068493150685\n"
     ]
    }
   ],
   "source": [
    "tf_idf_train = count_tf_idf.fit_transform(X_train['text_lemma'].values)\n",
    "tf_idf_test = count_tf_idf.transform(X_test['text_lemma'].values)\n",
    "\n",
    "log_model = LogisticRegression(penalty='l2', C=10, random_state=42)\n",
    "\n",
    "log_model.fit(tf_idf_train, y_train)\n",
    "\n",
    "y_pred_test_log = log_model.predict(tf_idf_test)\n",
    "\n",
    "f1_score_test_log = f1_score(y_test, y_pred_test_log)\n",
    "print(\"Метрика F1 для Logistic Regression на тестовой выборке:\", f1_score_test_log)"
   ]
  },
  {
   "cell_type": "markdown",
   "metadata": {},
   "source": [
    "Метрика F1 для модели LogisticRegression на тестовой выборке составила 0,79, что значительно превышает пороговое значение 0,75, установленное в задании. Это подтверждает, что модель хорошо классифицирует комментарии как положительные и отрицательные."
   ]
  },
  {
   "cell_type": "markdown",
   "metadata": {
    "id": "uG8YML-cXZSm"
   },
   "source": [
    "## Выводы"
   ]
  },
  {
   "cell_type": "markdown",
   "metadata": {
    "id": "7RvNQC7PXh-u"
   },
   "source": [
    "В ходе работы над проектом для интернет-магазина «Викишоп», целью которого было классифицировать токсичные комментарии, были протестированы три модели: **Logistic Regression**, **Naive Bayes** и **LGBMClassifier**. Для каждой из них были проведены настройки гиперпараметров с использованием кросс-валидации.\n",
    "\n",
    "- **Logistic Regression** показала хорошие результаты как на тренировочной, так и на валидационной выборке, с метрикой F1, равной 0.785 и 0.790 соответственно. Модель хорошо разделяет токсичные и нетоксичные комментарии, также продемонстрировала высокую метрику ROC AUC (0.973), что подтверждает её способность точно классифицировать комментарии.\n",
    "  \n",
    "- **Naive Bayes** показал более низкие результаты с метрикой F1 на тренировочной выборке 0.650, что указывает на более слабую производительность по сравнению с другими моделями. Несмотря на высокую метрику ROC AUC (0.924), модель не достигла целевого значения F1 на тестовой выборке.\n",
    "\n",
    "- **LGBMClassifier** продемонстрировал отличные результаты с метрикой F1 на тренировочной выборке 0.831 и ROC AUC 0.987, что указывает на превосходную точность классификации. Однако **Logistic Regression** показала слегка более стабильный и сбалансированный результат, несмотря на близость их показателей.\n",
    "\n",
    "- Модели **Logistic Regression** и **LGBMClassifier** превосходят **Naive Bayes** по метрике F1, при этом **LGBMClassifier** показал лучшие результаты на тренировочной выборке. Однако **Logistic Regression** оказалась более стабильной и точно подходящей для классификации токсичных комментариев.\n",
    "\n",
    "В заключение, модель **LogisticRegression** является наилучшей для использования в проекте, так как она дала наиболее высокие результаты по метрике F1, что позволяет успешно классифицировать токсичные комментарии."
   ]
  }
 ],
 "metadata": {
  "ExecuteTimeLog": [
   {
    "duration": 16739,
    "start_time": "2025-01-30T17:39:31.571Z"
   },
   {
    "duration": 343,
    "start_time": "2025-01-30T17:39:48.312Z"
   },
   {
    "duration": 49,
    "start_time": "2025-02-02T17:21:19.721Z"
   },
   {
    "duration": 5999,
    "start_time": "2025-02-02T17:22:17.652Z"
   },
   {
    "duration": 2985,
    "start_time": "2025-02-02T17:22:24.236Z"
   },
   {
    "duration": 3,
    "start_time": "2025-02-02T17:25:20.998Z"
   },
   {
    "duration": 3,
    "start_time": "2025-02-02T17:27:45.315Z"
   },
   {
    "duration": 3,
    "start_time": "2025-02-02T17:31:24.154Z"
   },
   {
    "duration": 45,
    "start_time": "2025-02-02T17:32:38.080Z"
   },
   {
    "duration": 2,
    "start_time": "2025-02-02T17:32:38.127Z"
   },
   {
    "duration": 9050,
    "start_time": "2025-02-02T17:32:38.131Z"
   },
   {
    "duration": 48,
    "start_time": "2025-02-02T17:33:02.680Z"
   },
   {
    "duration": 2,
    "start_time": "2025-02-02T17:33:02.730Z"
   },
   {
    "duration": 3822,
    "start_time": "2025-02-02T17:33:02.734Z"
   },
   {
    "duration": 47686,
    "start_time": "2025-02-02T17:33:06.559Z"
   },
   {
    "duration": 5650,
    "start_time": "2025-02-02T17:33:54.247Z"
   },
   {
    "duration": 2,
    "start_time": "2025-02-02T17:33:59.899Z"
   },
   {
    "duration": 3218,
    "start_time": "2025-02-02T17:33:59.902Z"
   },
   {
    "duration": 385,
    "start_time": "2025-02-02T17:34:03.122Z"
   },
   {
    "duration": 0,
    "start_time": "2025-02-02T17:34:03.509Z"
   },
   {
    "duration": 0,
    "start_time": "2025-02-02T17:34:03.510Z"
   },
   {
    "duration": 0,
    "start_time": "2025-02-02T17:34:03.511Z"
   },
   {
    "duration": 0,
    "start_time": "2025-02-02T17:34:03.513Z"
   },
   {
    "duration": 0,
    "start_time": "2025-02-02T17:34:03.515Z"
   },
   {
    "duration": 0,
    "start_time": "2025-02-02T17:34:03.516Z"
   },
   {
    "duration": 0,
    "start_time": "2025-02-02T17:34:03.517Z"
   },
   {
    "duration": 0,
    "start_time": "2025-02-02T17:34:03.520Z"
   },
   {
    "duration": 0,
    "start_time": "2025-02-02T17:34:03.521Z"
   },
   {
    "duration": 0,
    "start_time": "2025-02-02T17:34:03.522Z"
   },
   {
    "duration": 0,
    "start_time": "2025-02-02T17:34:03.524Z"
   },
   {
    "duration": 0,
    "start_time": "2025-02-02T17:34:03.525Z"
   },
   {
    "duration": 0,
    "start_time": "2025-02-02T17:34:03.527Z"
   },
   {
    "duration": 0,
    "start_time": "2025-02-02T17:34:03.528Z"
   },
   {
    "duration": 0,
    "start_time": "2025-02-02T17:34:03.530Z"
   },
   {
    "duration": 0,
    "start_time": "2025-02-02T17:34:03.532Z"
   },
   {
    "duration": 1,
    "start_time": "2025-02-02T17:34:03.533Z"
   },
   {
    "duration": 0,
    "start_time": "2025-02-02T17:34:03.576Z"
   },
   {
    "duration": 0,
    "start_time": "2025-02-02T17:34:03.577Z"
   },
   {
    "duration": 0,
    "start_time": "2025-02-02T17:34:03.578Z"
   },
   {
    "duration": 0,
    "start_time": "2025-02-02T17:34:03.580Z"
   },
   {
    "duration": 61,
    "start_time": "2025-02-02T17:35:29.470Z"
   },
   {
    "duration": 44,
    "start_time": "2025-02-02T17:35:36.155Z"
   },
   {
    "duration": 11,
    "start_time": "2025-02-02T17:35:38.544Z"
   },
   {
    "duration": 11,
    "start_time": "2025-02-02T17:35:40.232Z"
   },
   {
    "duration": 232,
    "start_time": "2025-02-02T17:35:42.443Z"
   },
   {
    "duration": 26,
    "start_time": "2025-02-02T17:35:43.355Z"
   },
   {
    "duration": 285,
    "start_time": "2025-02-02T17:35:44.111Z"
   },
   {
    "duration": 2667,
    "start_time": "2025-02-02T17:35:50.065Z"
   },
   {
    "duration": 3,
    "start_time": "2025-02-02T17:35:56.274Z"
   },
   {
    "duration": 647286,
    "start_time": "2025-02-02T17:35:58.397Z"
   },
   {
    "duration": 4,
    "start_time": "2025-02-02T17:47:00.107Z"
   },
   {
    "duration": 3,
    "start_time": "2025-02-02T17:47:01.878Z"
   },
   {
    "duration": 73,
    "start_time": "2025-02-02T17:47:03.993Z"
   },
   {
    "duration": 3,
    "start_time": "2025-02-02T17:47:06.431Z"
   },
   {
    "duration": 5,
    "start_time": "2025-02-02T17:47:06.887Z"
   },
   {
    "duration": 2,
    "start_time": "2025-02-02T17:47:09.724Z"
   },
   {
    "duration": 8881,
    "start_time": "2025-02-02T17:49:08.802Z"
   },
   {
    "duration": 8,
    "start_time": "2025-02-02T17:50:45.691Z"
   },
   {
    "duration": 7,
    "start_time": "2025-02-02T17:52:00.757Z"
   },
   {
    "duration": 3,
    "start_time": "2025-02-02T17:53:21.953Z"
   },
   {
    "duration": 22,
    "start_time": "2025-02-02T17:55:12.235Z"
   },
   {
    "duration": 65,
    "start_time": "2025-02-02T17:58:47.346Z"
   },
   {
    "duration": 5,
    "start_time": "2025-02-02T18:00:39.133Z"
   },
   {
    "duration": 3,
    "start_time": "2025-02-02T18:00:42.717Z"
   },
   {
    "duration": 359,
    "start_time": "2025-02-02T18:01:09.068Z"
   },
   {
    "duration": 3,
    "start_time": "2025-02-02T18:02:52.643Z"
   },
   {
    "duration": 307,
    "start_time": "2025-02-02T18:02:55.422Z"
   },
   {
    "duration": 44,
    "start_time": "2025-02-02T18:03:05.548Z"
   },
   {
    "duration": 18,
    "start_time": "2025-02-02T18:03:05.593Z"
   },
   {
    "duration": 3354,
    "start_time": "2025-02-02T18:03:05.612Z"
   },
   {
    "duration": 13685,
    "start_time": "2025-02-02T18:03:08.968Z"
   },
   {
    "duration": 5404,
    "start_time": "2025-02-02T18:03:22.655Z"
   },
   {
    "duration": 2648,
    "start_time": "2025-02-02T18:03:28.061Z"
   },
   {
    "duration": 73,
    "start_time": "2025-02-02T18:03:30.711Z"
   },
   {
    "duration": 11,
    "start_time": "2025-02-02T18:03:30.786Z"
   },
   {
    "duration": 18,
    "start_time": "2025-02-02T18:03:30.799Z"
   },
   {
    "duration": 248,
    "start_time": "2025-02-02T18:03:30.820Z"
   },
   {
    "duration": 28,
    "start_time": "2025-02-02T18:03:31.074Z"
   },
   {
    "duration": 307,
    "start_time": "2025-02-02T18:03:31.105Z"
   },
   {
    "duration": 2709,
    "start_time": "2025-02-02T18:03:31.414Z"
   },
   {
    "duration": 635876,
    "start_time": "2025-02-02T18:03:34.125Z"
   },
   {
    "duration": 5,
    "start_time": "2025-02-02T18:14:10.003Z"
   },
   {
    "duration": 85,
    "start_time": "2025-02-02T18:14:10.010Z"
   },
   {
    "duration": 5,
    "start_time": "2025-02-02T18:14:10.097Z"
   },
   {
    "duration": 8548,
    "start_time": "2025-02-02T18:14:10.104Z"
   },
   {
    "duration": 8,
    "start_time": "2025-02-02T18:14:18.654Z"
   },
   {
    "duration": 6,
    "start_time": "2025-02-02T18:14:18.674Z"
   },
   {
    "duration": 764,
    "start_time": "2025-02-02T18:14:18.682Z"
   },
   {
    "duration": 0,
    "start_time": "2025-02-02T18:14:19.448Z"
   },
   {
    "duration": 0,
    "start_time": "2025-02-02T18:14:19.449Z"
   },
   {
    "duration": 0,
    "start_time": "2025-02-02T18:14:19.450Z"
   },
   {
    "duration": 0,
    "start_time": "2025-02-02T18:14:19.451Z"
   },
   {
    "duration": 84,
    "start_time": "2025-02-02T18:17:13.642Z"
   },
   {
    "duration": 4,
    "start_time": "2025-02-02T18:17:25.401Z"
   },
   {
    "duration": 8298,
    "start_time": "2025-02-02T18:17:28.657Z"
   },
   {
    "duration": 291,
    "start_time": "2025-02-02T18:18:22.267Z"
   },
   {
    "duration": 81,
    "start_time": "2025-02-02T18:18:30.256Z"
   },
   {
    "duration": 4,
    "start_time": "2025-02-02T18:18:32.341Z"
   },
   {
    "duration": 8264,
    "start_time": "2025-02-02T18:18:33.428Z"
   },
   {
    "duration": 16,
    "start_time": "2025-02-02T18:21:39.933Z"
   },
   {
    "duration": 5,
    "start_time": "2025-02-02T18:21:45.940Z"
   },
   {
    "duration": 70,
    "start_time": "2025-02-02T18:21:46.480Z"
   },
   {
    "duration": 4,
    "start_time": "2025-02-02T18:21:47.499Z"
   },
   {
    "duration": 3,
    "start_time": "2025-02-02T18:21:47.882Z"
   },
   {
    "duration": 5,
    "start_time": "2025-02-02T18:21:50.290Z"
   },
   {
    "duration": 3,
    "start_time": "2025-02-02T18:21:51.737Z"
   },
   {
    "duration": 605171,
    "start_time": "2025-02-02T18:21:53.689Z"
   },
   {
    "duration": 22,
    "start_time": "2025-02-02T18:32:15.395Z"
   },
   {
    "duration": 1349,
    "start_time": "2025-02-02T18:34:12.075Z"
   },
   {
    "duration": 1337,
    "start_time": "2025-02-02T18:35:35.783Z"
   },
   {
    "duration": 3,
    "start_time": "2025-02-02T18:35:45.813Z"
   },
   {
    "duration": 20,
    "start_time": "2025-02-02T18:35:46.572Z"
   },
   {
    "duration": 1310,
    "start_time": "2025-02-02T18:37:25.345Z"
   },
   {
    "duration": 1169143,
    "start_time": "2025-02-02T18:38:41.237Z"
   },
   {
    "duration": 0,
    "start_time": "2025-02-02T18:58:10.382Z"
   },
   {
    "duration": 55,
    "start_time": "2025-02-02T18:58:14.260Z"
   },
   {
    "duration": 3,
    "start_time": "2025-02-02T18:58:46.078Z"
   },
   {
    "duration": 622487,
    "start_time": "2025-02-02T18:58:49.330Z"
   },
   {
    "duration": 48,
    "start_time": "2025-02-02T19:23:34.852Z"
   },
   {
    "duration": 3,
    "start_time": "2025-02-02T19:23:34.902Z"
   },
   {
    "duration": 3456,
    "start_time": "2025-02-02T19:23:34.907Z"
   },
   {
    "duration": 17504,
    "start_time": "2025-02-02T19:23:38.366Z"
   },
   {
    "duration": 5475,
    "start_time": "2025-02-02T19:23:55.872Z"
   },
   {
    "duration": 2681,
    "start_time": "2025-02-02T19:24:01.349Z"
   },
   {
    "duration": 80,
    "start_time": "2025-02-02T19:24:04.031Z"
   },
   {
    "duration": 12,
    "start_time": "2025-02-02T19:24:04.113Z"
   },
   {
    "duration": 28,
    "start_time": "2025-02-02T19:24:04.126Z"
   },
   {
    "duration": 282,
    "start_time": "2025-02-02T19:24:04.157Z"
   },
   {
    "duration": 34,
    "start_time": "2025-02-02T19:24:04.441Z"
   },
   {
    "duration": 343,
    "start_time": "2025-02-02T19:24:04.478Z"
   },
   {
    "duration": 2794,
    "start_time": "2025-02-02T19:24:04.822Z"
   },
   {
    "duration": 643100,
    "start_time": "2025-02-02T19:24:07.618Z"
   },
   {
    "duration": 4,
    "start_time": "2025-02-02T19:34:50.720Z"
   },
   {
    "duration": 90,
    "start_time": "2025-02-02T19:34:50.726Z"
   },
   {
    "duration": 4,
    "start_time": "2025-02-02T19:34:50.818Z"
   },
   {
    "duration": 399,
    "start_time": "2025-02-02T19:34:50.823Z"
   },
   {
    "duration": 0,
    "start_time": "2025-02-02T19:34:51.223Z"
   },
   {
    "duration": 0,
    "start_time": "2025-02-02T19:34:51.224Z"
   },
   {
    "duration": 0,
    "start_time": "2025-02-02T19:34:51.225Z"
   },
   {
    "duration": 0,
    "start_time": "2025-02-02T19:34:51.227Z"
   },
   {
    "duration": 0,
    "start_time": "2025-02-02T19:34:51.228Z"
   },
   {
    "duration": 0,
    "start_time": "2025-02-02T19:34:51.229Z"
   },
   {
    "duration": 0,
    "start_time": "2025-02-02T19:34:51.230Z"
   },
   {
    "duration": 53,
    "start_time": "2025-02-02T19:35:39.701Z"
   },
   {
    "duration": 5,
    "start_time": "2025-02-02T19:36:26.906Z"
   },
   {
    "duration": 5,
    "start_time": "2025-02-02T19:36:37.235Z"
   },
   {
    "duration": 2,
    "start_time": "2025-02-02T19:36:40.991Z"
   },
   {
    "duration": 615326,
    "start_time": "2025-02-02T19:36:43.436Z"
   },
   {
    "duration": 26,
    "start_time": "2025-02-02T19:46:58.764Z"
   },
   {
    "duration": 0,
    "start_time": "2025-02-02T19:46:58.792Z"
   },
   {
    "duration": 0,
    "start_time": "2025-02-02T19:46:58.793Z"
   },
   {
    "duration": 0,
    "start_time": "2025-02-02T19:46:58.794Z"
   },
   {
    "duration": 53,
    "start_time": "2025-02-03T09:33:37.260Z"
   },
   {
    "duration": 3,
    "start_time": "2025-02-03T09:33:37.315Z"
   },
   {
    "duration": 7101,
    "start_time": "2025-02-03T09:33:37.319Z"
   },
   {
    "duration": 13132,
    "start_time": "2025-02-03T09:33:44.423Z"
   },
   {
    "duration": 5178,
    "start_time": "2025-02-03T09:33:57.557Z"
   },
   {
    "duration": 2773,
    "start_time": "2025-02-03T09:34:02.738Z"
   },
   {
    "duration": 60,
    "start_time": "2025-02-03T09:34:05.512Z"
   },
   {
    "duration": 10,
    "start_time": "2025-02-03T09:34:05.574Z"
   },
   {
    "duration": 16,
    "start_time": "2025-02-03T09:34:05.602Z"
   },
   {
    "duration": 231,
    "start_time": "2025-02-03T09:34:05.620Z"
   },
   {
    "duration": 25,
    "start_time": "2025-02-03T09:34:05.853Z"
   },
   {
    "duration": 364,
    "start_time": "2025-02-03T09:34:05.880Z"
   },
   {
    "duration": 2695,
    "start_time": "2025-02-03T09:34:06.246Z"
   },
   {
    "duration": 618602,
    "start_time": "2025-02-03T09:34:08.943Z"
   },
   {
    "duration": 4,
    "start_time": "2025-02-03T09:44:27.547Z"
   },
   {
    "duration": 91,
    "start_time": "2025-02-03T09:44:27.552Z"
   },
   {
    "duration": 4,
    "start_time": "2025-02-03T09:44:27.644Z"
   },
   {
    "duration": 46,
    "start_time": "2025-02-03T09:44:27.649Z"
   },
   {
    "duration": 4,
    "start_time": "2025-02-03T09:44:27.697Z"
   },
   {
    "duration": 4,
    "start_time": "2025-02-03T09:44:27.703Z"
   },
   {
    "duration": 654848,
    "start_time": "2025-02-03T09:44:27.708Z"
   },
   {
    "duration": 352,
    "start_time": "2025-02-03T09:55:22.558Z"
   },
   {
    "duration": 0,
    "start_time": "2025-02-03T09:55:22.912Z"
   },
   {
    "duration": 0,
    "start_time": "2025-02-03T09:55:22.913Z"
   },
   {
    "duration": 0,
    "start_time": "2025-02-03T09:55:22.914Z"
   },
   {
    "duration": 10551,
    "start_time": "2025-02-03T10:42:19.204Z"
   },
   {
    "duration": 3,
    "start_time": "2025-02-03T10:42:34.335Z"
   },
   {
    "duration": 1301010,
    "start_time": "2025-02-03T10:42:35.339Z"
   },
   {
    "duration": 44,
    "start_time": "2025-02-04T13:06:29.117Z"
   },
   {
    "duration": 2,
    "start_time": "2025-02-04T13:06:29.163Z"
   },
   {
    "duration": 7714,
    "start_time": "2025-02-04T13:06:29.166Z"
   },
   {
    "duration": 12627,
    "start_time": "2025-02-04T13:06:36.883Z"
   },
   {
    "duration": 5416,
    "start_time": "2025-02-04T13:06:49.512Z"
   },
   {
    "duration": 2204,
    "start_time": "2025-02-04T13:06:54.929Z"
   },
   {
    "duration": 65,
    "start_time": "2025-02-04T13:06:57.135Z"
   },
   {
    "duration": 10,
    "start_time": "2025-02-04T13:06:57.217Z"
   },
   {
    "duration": 11,
    "start_time": "2025-02-04T13:06:57.228Z"
   },
   {
    "duration": 243,
    "start_time": "2025-02-04T13:06:57.242Z"
   },
   {
    "duration": 33,
    "start_time": "2025-02-04T13:06:57.487Z"
   },
   {
    "duration": 360,
    "start_time": "2025-02-04T13:06:57.522Z"
   },
   {
    "duration": 2767,
    "start_time": "2025-02-04T13:06:57.884Z"
   },
   {
    "duration": 631527,
    "start_time": "2025-02-04T13:07:00.653Z"
   },
   {
    "duration": 5,
    "start_time": "2025-02-04T13:17:32.182Z"
   },
   {
    "duration": 98,
    "start_time": "2025-02-04T13:17:32.189Z"
   },
   {
    "duration": 4,
    "start_time": "2025-02-04T13:17:32.289Z"
   },
   {
    "duration": 5,
    "start_time": "2025-02-04T13:17:32.295Z"
   },
   {
    "duration": 20,
    "start_time": "2025-02-04T13:17:32.302Z"
   },
   {
    "duration": 52,
    "start_time": "2025-02-04T13:17:32.324Z"
   },
   {
    "duration": 617831,
    "start_time": "2025-02-04T13:17:32.378Z"
   },
   {
    "duration": 1519,
    "start_time": "2025-02-04T13:27:50.211Z"
   },
   {
    "duration": 0,
    "start_time": "2025-02-04T13:27:51.732Z"
   },
   {
    "duration": 0,
    "start_time": "2025-02-04T13:27:51.733Z"
   },
   {
    "duration": 1,
    "start_time": "2025-02-04T13:27:51.734Z"
   },
   {
    "duration": 9956,
    "start_time": "2025-02-04T13:29:54.166Z"
   },
   {
    "duration": 8840,
    "start_time": "2025-02-04T13:31:07.087Z"
   },
   {
    "duration": 8762,
    "start_time": "2025-02-04T13:34:22.423Z"
   },
   {
    "duration": 8644,
    "start_time": "2025-02-04T13:35:44.367Z"
   },
   {
    "duration": 5,
    "start_time": "2025-02-04T13:38:38.594Z"
   },
   {
    "duration": 8714,
    "start_time": "2025-02-04T13:38:41.189Z"
   },
   {
    "duration": 10716,
    "start_time": "2025-02-04T13:39:58.057Z"
   },
   {
    "duration": 3,
    "start_time": "2025-02-04T13:40:12.764Z"
   },
   {
    "duration": 1128400,
    "start_time": "2025-02-04T13:40:13.733Z"
   },
   {
    "duration": 24,
    "start_time": "2025-02-04T14:01:59.274Z"
   },
   {
    "duration": 28,
    "start_time": "2025-02-04T14:03:50.552Z"
   },
   {
    "duration": 38190,
    "start_time": "2025-02-04T14:05:37.933Z"
   },
   {
    "duration": 46,
    "start_time": "2025-02-04T14:25:32.888Z"
   },
   {
    "duration": 45,
    "start_time": "2025-02-04T14:25:32.936Z"
   },
   {
    "duration": 3569,
    "start_time": "2025-02-04T14:25:32.983Z"
   },
   {
    "duration": 12509,
    "start_time": "2025-02-04T14:25:36.554Z"
   },
   {
    "duration": 6002,
    "start_time": "2025-02-04T14:25:49.065Z"
   },
   {
    "duration": 2504,
    "start_time": "2025-02-04T14:25:55.068Z"
   },
   {
    "duration": 81,
    "start_time": "2025-02-04T14:25:57.573Z"
   },
   {
    "duration": 10,
    "start_time": "2025-02-04T14:25:57.655Z"
   },
   {
    "duration": 11,
    "start_time": "2025-02-04T14:25:57.666Z"
   },
   {
    "duration": 281,
    "start_time": "2025-02-04T14:25:57.680Z"
   },
   {
    "duration": 30,
    "start_time": "2025-02-04T14:25:57.963Z"
   },
   {
    "duration": 273,
    "start_time": "2025-02-04T14:25:57.994Z"
   },
   {
    "duration": 3025,
    "start_time": "2025-02-04T14:25:58.269Z"
   },
   {
    "duration": 698686,
    "start_time": "2025-02-04T14:26:01.295Z"
   },
   {
    "duration": 5,
    "start_time": "2025-02-04T14:37:39.984Z"
   },
   {
    "duration": 113,
    "start_time": "2025-02-04T14:37:39.992Z"
   },
   {
    "duration": 11,
    "start_time": "2025-02-04T14:37:40.107Z"
   },
   {
    "duration": 23,
    "start_time": "2025-02-04T14:37:40.121Z"
   },
   {
    "duration": 7,
    "start_time": "2025-02-04T14:37:40.147Z"
   },
   {
    "duration": 23,
    "start_time": "2025-02-04T14:37:40.156Z"
   },
   {
    "duration": 665407,
    "start_time": "2025-02-04T14:37:40.181Z"
   },
   {
    "duration": 11486,
    "start_time": "2025-02-04T14:48:45.590Z"
   },
   {
    "duration": 3,
    "start_time": "2025-02-04T14:48:57.079Z"
   },
   {
    "duration": 1531861,
    "start_time": "2025-02-04T14:48:57.083Z"
   },
   {
    "duration": 41986,
    "start_time": "2025-02-04T15:14:28.946Z"
   }
  ],
  "colab": {
   "provenance": []
  },
  "kernelspec": {
   "display_name": "Python 3 (ipykernel)",
   "language": "python",
   "name": "python3"
  },
  "language_info": {
   "codemirror_mode": {
    "name": "ipython",
    "version": 3
   },
   "file_extension": ".py",
   "mimetype": "text/x-python",
   "name": "python",
   "nbconvert_exporter": "python",
   "pygments_lexer": "ipython3",
   "version": "3.9.5"
  },
  "toc": {
   "base_numbering": 1,
   "nav_menu": {},
   "number_sections": true,
   "sideBar": true,
   "skip_h1_title": true,
   "title_cell": "Table of Contents",
   "title_sidebar": "Contents",
   "toc_cell": false,
   "toc_position": {},
   "toc_section_display": true,
   "toc_window_display": false
  }
 },
 "nbformat": 4,
 "nbformat_minor": 1
}
